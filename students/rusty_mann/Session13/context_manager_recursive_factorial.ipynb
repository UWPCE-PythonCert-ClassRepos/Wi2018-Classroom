{
 "cells": [
  {
   "cell_type": "code",
   "execution_count": 1,
   "metadata": {},
   "outputs": [],
   "source": [
    "from contextlib import contextmanager"
   ]
  },
  {
   "cell_type": "code",
   "execution_count": 7,
   "metadata": {},
   "outputs": [],
   "source": [
    "class Context(object):\n",
    "    \"\"\"from Doug Hellmann, PyMOTW\n",
    "    https://pymotw.com/3/contextlib/#module-contextlib\n",
    "    \"\"\"\n",
    "    def __init__(self, handle_error):\n",
    "        print('__init__({})'.format(handle_error))\n",
    "        self.handle_error = handle_error\n",
    "\n",
    "    def __enter__(self):\n",
    "        print('__enter__()')\n",
    "        return self\n",
    "\n",
    "    def __exit__(self, exc_type, exc_val, exc_tb):\n",
    "        print('__exit__({}, {}, {})'.format(exc_type, exc_val, exc_tb))\n",
    "        return self.handle_error"
   ]
  },
  {
   "cell_type": "code",
   "execution_count": 8,
   "metadata": {},
   "outputs": [
    {
     "name": "stdout",
     "output_type": "stream",
     "text": [
      "__init__(True)\n",
      "__enter__()\n",
      "This is in the context\n",
      "__exit__(<class 'RuntimeError'>, this is the error message, <traceback object at 0x0000005B16C24308>)\n"
     ]
    }
   ],
   "source": [
    "with Context(True) as foo:\n",
    "       ....:     print('This is in the context')\n",
    "       ....:     raise RuntimeError('this is the error message')"
   ]
  },
  {
   "cell_type": "code",
   "execution_count": 4,
   "metadata": {},
   "outputs": [
    {
     "name": "stdout",
     "output_type": "stream",
     "text": [
      "__init__(False)\n",
      "__enter__()\n",
      "this is in the context\n",
      "__exit__(<class 'RuntimeError'>, this is the error message, <traceback object at 0x0000005B16C241C8>)\n"
     ]
    },
    {
     "ename": "RuntimeError",
     "evalue": "this is the error message",
     "output_type": "error",
     "traceback": [
      "\u001b[1;31m---------------------------------------------------------------------------\u001b[0m",
      "\u001b[1;31mRuntimeError\u001b[0m                              Traceback (most recent call last)",
      "\u001b[1;32m<ipython-input-4-cb971af0877f>\u001b[0m in \u001b[0;36m<module>\u001b[1;34m()\u001b[0m\n\u001b[0;32m      1\u001b[0m \u001b[1;32mwith\u001b[0m \u001b[0mContext\u001b[0m\u001b[1;33m(\u001b[0m\u001b[1;32mFalse\u001b[0m\u001b[1;33m)\u001b[0m \u001b[1;32mas\u001b[0m \u001b[0mfoo\u001b[0m\u001b[1;33m:\u001b[0m\u001b[1;33m\u001b[0m\u001b[0m\n\u001b[0;32m      2\u001b[0m     \u001b[0mprint\u001b[0m\u001b[1;33m(\u001b[0m\u001b[1;34m\"this is in the context\"\u001b[0m\u001b[1;33m)\u001b[0m\u001b[1;33m\u001b[0m\u001b[0m\n\u001b[1;32m----> 3\u001b[1;33m     \u001b[1;32mraise\u001b[0m \u001b[0mRuntimeError\u001b[0m\u001b[1;33m(\u001b[0m\u001b[1;34m'this is the error message'\u001b[0m\u001b[1;33m)\u001b[0m\u001b[1;33m\u001b[0m\u001b[0m\n\u001b[0m",
      "\u001b[1;31mRuntimeError\u001b[0m: this is the error message"
     ]
    }
   ],
   "source": [
    "with Context(False) as foo:\n",
    "   ...:     print(\"this is in the context\")\n",
    "   ...:     raise RuntimeError('this is the error message')"
   ]
  },
  {
   "cell_type": "markdown",
   "metadata": {},
   "source": [
    "small_locke = Locke(5)\n",
    "large_locke = Locke(10)\n",
    "boats = 8\n",
    "\n",
    "#### Too many boats through a small locke will raise an exception\n",
    "with small_locke as locke:\n",
    "    locke.move_boats_through(boats)\n",
    "\n",
    "#### A lock with sufficient capacity can move boats without incident.\n",
    "with large_locke as locke:\n",
    "    locke.move_boats_through(boats)"
   ]
  },
  {
   "cell_type": "code",
   "execution_count": 28,
   "metadata": {},
   "outputs": [],
   "source": [
    "class Locke(object):\n",
    "    \"\"\"\n",
    "    \"\"\"\n",
    "    def __init__(self, capacity):\n",
    "        self.capacity = capacity\n",
    "        #self.handle_error = handle_error\n",
    "        \n",
    "    def move_boats_through(self, quantity):\n",
    "        self.quantity = quantity\n",
    "        if quantity > self.capacity:\n",
    "            print(\"Too many boats\")\n",
    "            raise ValueError(\"Do not proceed\")\n",
    "        else:\n",
    "            print(\"Proceed\")\n",
    "    \n",
    "    def __enter__(self):\n",
    "        print(\"Stopping the pumps.Opening the doors.\")\n",
    "        return self\n",
    "\n",
    "    def __exit__(self, exc_type, exc_val, exc_tb):\n",
    "        if (exc_type, exc_val, exc_tb) == (None, None, None):\n",
    "            pass\n",
    "        else:\n",
    "            print('{}, {}, {}'.format(exc_type, exc_val, exc_tb))\n",
    "        print(\".Closing the doors.Restarting the pumps.\")\n",
    "        return True"
   ]
  },
  {
   "cell_type": "code",
   "execution_count": 29,
   "metadata": {},
   "outputs": [],
   "source": [
    "small_locke = Locke(5)\n",
    "large_locke = Locke(10)\n",
    "boats = 8"
   ]
  },
  {
   "cell_type": "code",
   "execution_count": 30,
   "metadata": {},
   "outputs": [
    {
     "name": "stdout",
     "output_type": "stream",
     "text": [
      "Stopping the pumps.Opening the doors.\n",
      "Too many boats\n",
      "<class 'ValueError'>, Do not proceed, <traceback object at 0x000000850C195A08>\n",
      ".Closing the doors.Restarting the pumps.\n"
     ]
    }
   ],
   "source": [
    "with small_locke as locke:\n",
    "    locke.move_boats_through(boats)"
   ]
  },
  {
   "cell_type": "code",
   "execution_count": 31,
   "metadata": {},
   "outputs": [
    {
     "name": "stdout",
     "output_type": "stream",
     "text": [
      "Stopping the pumps.Opening the doors.\n",
      "Proceed\n",
      ".Closing the doors.Restarting the pumps.\n"
     ]
    }
   ],
   "source": [
    "with large_locke as locke:\n",
    "    locke.move_boats_through(boats)"
   ]
  },
  {
   "cell_type": "code",
   "execution_count": null,
   "metadata": {},
   "outputs": [],
   "source": [
    "class Locke:\n",
    "    def __init__(self, capacity):\n",
    "        self.capacity = capacity\n",
    "        \n",
    "    def __enter__(self, numboats=1):\n",
    "        print(\"Entering:\")\n",
    "        print(\"\\tStopping the pumps\")\n",
    "        print(\"\\tOpening the doors\")\n",
    "        print(\"\\tClosing the doors\")\n",
    "        print(\"\\tRestarting the pumps\")\n",
    "        \n",
    "    def __exit__(self, **kwargs):\n",
    "        print(\"Exiting:\")\n",
    "        print(\"\\tStopping the pumps\")\n",
    "        print(\"\\tOpening the doors\")\n",
    "        print(\"\\tClosing the doors\")\n",
    "        print(\"\\tRestarting the pumps\")\n",
    "        \n",
    "    def move_boats_through(self, quantity):\n",
    "        if quantity > self.capacity:\n",
    "            raise ValueError(\"Attempted to send {boats} through locke with capacity {self.capacity}\")\n",
    "        print(\"moving boats through\")\n",
    "        "
   ]
  },
  {
   "cell_type": "code",
   "execution_count": null,
   "metadata": {},
   "outputs": [],
   "source": []
  },
  {
   "cell_type": "markdown",
   "metadata": {},
   "source": [
    "### Recursive solution for factorial!"
   ]
  },
  {
   "cell_type": "code",
   "execution_count": 123,
   "metadata": {},
   "outputs": [],
   "source": [
    "def recursive_factorial(n):\n",
    "    if n == 1:\n",
    "        return 1\n",
    "    else:\n",
    "        return n*recursive_factorial(n-1)"
   ]
  },
  {
   "cell_type": "code",
   "execution_count": 124,
   "metadata": {},
   "outputs": [
    {
     "data": {
      "text/plain": [
       "120"
      ]
     },
     "execution_count": 124,
     "metadata": {},
     "output_type": "execute_result"
    }
   ],
   "source": [
    "recursive_factorial(5)"
   ]
  },
  {
   "cell_type": "code",
   "execution_count": null,
   "metadata": {},
   "outputs": [],
   "source": []
  },
  {
   "cell_type": "code",
   "execution_count": null,
   "metadata": {},
   "outputs": [],
   "source": []
  },
  {
   "cell_type": "code",
   "execution_count": null,
   "metadata": {},
   "outputs": [],
   "source": []
  },
  {
   "cell_type": "code",
   "execution_count": null,
   "metadata": {},
   "outputs": [],
   "source": []
  },
  {
   "cell_type": "code",
   "execution_count": null,
   "metadata": {},
   "outputs": [],
   "source": []
  }
 ],
 "metadata": {
  "kernelspec": {
   "display_name": "Python 3",
   "language": "python",
   "name": "python3"
  },
  "language_info": {
   "codemirror_mode": {
    "name": "ipython",
    "version": 3
   },
   "file_extension": ".py",
   "mimetype": "text/x-python",
   "name": "python",
   "nbconvert_exporter": "python",
   "pygments_lexer": "ipython3",
   "version": "3.6.4"
  }
 },
 "nbformat": 4,
 "nbformat_minor": 2
}
