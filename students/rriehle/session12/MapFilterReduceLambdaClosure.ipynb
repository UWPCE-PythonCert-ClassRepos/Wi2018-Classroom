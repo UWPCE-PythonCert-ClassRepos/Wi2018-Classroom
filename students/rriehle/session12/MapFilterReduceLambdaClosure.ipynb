{
 "cells": [
  {
   "cell_type": "code",
   "execution_count": 1,
   "metadata": {
    "collapsed": true
   },
   "outputs": [],
   "source": [
    "my_list = list(range(10))"
   ]
  },
  {
   "cell_type": "code",
   "execution_count": 2,
   "metadata": {},
   "outputs": [
    {
     "data": {
      "text/plain": [
       "[0, 1, 2, 3, 4, 5, 6, 7, 8, 9]"
      ]
     },
     "execution_count": 2,
     "metadata": {},
     "output_type": "execute_result"
    }
   ],
   "source": [
    "my_list"
   ]
  },
  {
   "cell_type": "markdown",
   "metadata": {},
   "source": [
    "###  Simple and prototypical use of map and lambda"
   ]
  },
  {
   "cell_type": "code",
   "execution_count": 3,
   "metadata": {},
   "outputs": [
    {
     "data": {
      "text/plain": [
       "[0, 2, 4, 6, 8, 10, 12, 14, 16, 18]"
      ]
     },
     "execution_count": 3,
     "metadata": {},
     "output_type": "execute_result"
    }
   ],
   "source": [
    "list(map(lambda x: x * 2, my_list))"
   ]
  },
  {
   "cell_type": "markdown",
   "metadata": {},
   "source": [
    "###  Same thing but using a function instead"
   ]
  },
  {
   "cell_type": "code",
   "execution_count": 4,
   "metadata": {
    "collapsed": true
   },
   "outputs": [],
   "source": [
    "def double(x):\n",
    "    return x * 2"
   ]
  },
  {
   "cell_type": "code",
   "execution_count": 5,
   "metadata": {},
   "outputs": [
    {
     "data": {
      "text/plain": [
       "[0, 2, 4, 6, 8, 10, 12, 14, 16, 18]"
      ]
     },
     "execution_count": 5,
     "metadata": {},
     "output_type": "execute_result"
    }
   ],
   "source": [
    "list(map(double, my_list))"
   ]
  },
  {
   "cell_type": "markdown",
   "metadata": {},
   "source": [
    "###  This pattern makes me batty... is it really any more readable to use the alternative lambda syntax to define the function?  I guess some people think so."
   ]
  },
  {
   "cell_type": "code",
   "execution_count": 6,
   "metadata": {
    "collapsed": true
   },
   "outputs": [],
   "source": [
    "double = lambda x: x * 2"
   ]
  },
  {
   "cell_type": "code",
   "execution_count": 7,
   "metadata": {},
   "outputs": [
    {
     "data": {
      "text/plain": [
       "[0, 2, 4, 6, 8, 10, 12, 14, 16, 18]"
      ]
     },
     "execution_count": 7,
     "metadata": {},
     "output_type": "execute_result"
    }
   ],
   "source": [
    "list(map(double, my_list))"
   ]
  },
  {
   "cell_type": "markdown",
   "metadata": {},
   "source": [
    "###  Let's use map and filter in a more real-life scenario"
   ]
  },
  {
   "cell_type": "code",
   "execution_count": 8,
   "metadata": {
    "collapsed": true
   },
   "outputs": [],
   "source": [
    "import random"
   ]
  },
  {
   "cell_type": "code",
   "execution_count": 9,
   "metadata": {
    "collapsed": true
   },
   "outputs": [],
   "source": [
    "def farenheit(c):\n",
    "    return 9.0/5.0 * c + 32"
   ]
  },
  {
   "cell_type": "code",
   "execution_count": 10,
   "metadata": {
    "collapsed": true
   },
   "outputs": [],
   "source": [
    "def celcius(f):\n",
    "    return 5.0/9.0 * (f - 32)"
   ]
  },
  {
   "cell_type": "markdown",
   "metadata": {},
   "source": [
    "###  First I'd like to generate a human survivable range of temperature data"
   ]
  },
  {
   "cell_type": "code",
   "execution_count": 11,
   "metadata": {
    "collapsed": true
   },
   "outputs": [],
   "source": [
    "my_celcius_list = [random.uniform(-10, 35) for _ in range(20)]"
   ]
  },
  {
   "cell_type": "code",
   "execution_count": 12,
   "metadata": {},
   "outputs": [
    {
     "data": {
      "text/plain": [
       "[8.798612650505444,\n",
       " 2.0338599371301633,\n",
       " 29.931616233237612,\n",
       " 5.532699689117964,\n",
       " -0.6596721566102364,\n",
       " 18.581880384954957,\n",
       " 8.22880842147205,\n",
       " 34.994470631957554,\n",
       " 17.971342669102853,\n",
       " 10.81319509857428,\n",
       " 30.760628627271608,\n",
       " 33.0556801075646,\n",
       " -0.46382874831531495,\n",
       " 29.382740654287943,\n",
       " 12.44049796616537,\n",
       " 4.931063794823203,\n",
       " -7.901239168641025,\n",
       " -2.1149332995871397,\n",
       " -9.115925019764289,\n",
       " 16.522053036341713]"
      ]
     },
     "execution_count": 12,
     "metadata": {},
     "output_type": "execute_result"
    }
   ],
   "source": [
    "my_celcius_list"
   ]
  },
  {
   "cell_type": "code",
   "execution_count": 13,
   "metadata": {
    "collapsed": true
   },
   "outputs": [],
   "source": [
    "my_celcius_tuple = tuple(random.uniform(-10, 35) for _ in range(20))"
   ]
  },
  {
   "cell_type": "code",
   "execution_count": 14,
   "metadata": {},
   "outputs": [
    {
     "data": {
      "text/plain": [
       "(-7.643498387382586,\n",
       " 22.765793986713362,\n",
       " 27.764795834657477,\n",
       " 31.913909417887048,\n",
       " 25.67577738365585,\n",
       " -2.0539897673731717,\n",
       " 17.024206481990223,\n",
       " 4.944988645023422,\n",
       " 4.254575308845409,\n",
       " -3.7223709908483356,\n",
       " 16.731865867323023,\n",
       " -1.4863199918320404,\n",
       " 30.70456170232019,\n",
       " 12.79134073480705,\n",
       " 24.500520441930604,\n",
       " 20.344573268396523,\n",
       " 16.31222058618643,\n",
       " 0.6634758011332949,\n",
       " 26.89035731000984,\n",
       " 10.67880797532241)"
      ]
     },
     "execution_count": 14,
     "metadata": {},
     "output_type": "execute_result"
    }
   ],
   "source": [
    "my_celcius_tuple"
   ]
  },
  {
   "cell_type": "markdown",
   "metadata": {},
   "source": [
    "###  But wait, what is a generator anyways?"
   ]
  },
  {
   "cell_type": "code",
   "execution_count": 15,
   "metadata": {
    "collapsed": true
   },
   "outputs": [],
   "source": [
    "my_celcius_generator = (random.uniform(-10, 35) for _ in range(20))"
   ]
  },
  {
   "cell_type": "code",
   "execution_count": 16,
   "metadata": {},
   "outputs": [
    {
     "data": {
      "text/plain": [
       "<generator object <genexpr> at 0x10bf290f8>"
      ]
     },
     "execution_count": 16,
     "metadata": {},
     "output_type": "execute_result"
    }
   ],
   "source": [
    "my_celcius_generator"
   ]
  },
  {
   "cell_type": "code",
   "execution_count": 17,
   "metadata": {},
   "outputs": [],
   "source": [
    "my_celcius_tuple = tuple(_ for _ in my_celcius_generator)"
   ]
  },
  {
   "cell_type": "code",
   "execution_count": 18,
   "metadata": {},
   "outputs": [
    {
     "data": {
      "text/plain": [
       "(25.429708513393365,\n",
       " 5.894323586004694,\n",
       " 5.824829260068324,\n",
       " 27.145349139294055,\n",
       " 20.558604470999793,\n",
       " 19.881677338174608,\n",
       " 5.823138023972664,\n",
       " 9.992032072840988,\n",
       " 5.417234746435705,\n",
       " -0.22580762583944036,\n",
       " -0.030691308525007344,\n",
       " -5.053981678962025,\n",
       " 12.843046955106047,\n",
       " 9.44706401076704,\n",
       " -2.6314909355453073,\n",
       " 7.260293408287705,\n",
       " -3.06533415962683,\n",
       " 24.044892844898527,\n",
       " -5.018828774441405,\n",
       " 5.413604700912144)"
      ]
     },
     "execution_count": 18,
     "metadata": {},
     "output_type": "execute_result"
    }
   ],
   "source": [
    "my_celcius_tuple"
   ]
  },
  {
   "cell_type": "markdown",
   "metadata": {},
   "source": [
    "###  Once a generator is spent, it's spent, empty, nada, done...."
   ]
  },
  {
   "cell_type": "code",
   "execution_count": 19,
   "metadata": {},
   "outputs": [
    {
     "data": {
      "text/plain": [
       "()"
      ]
     },
     "execution_count": 19,
     "metadata": {},
     "output_type": "execute_result"
    }
   ],
   "source": [
    "tuple(_ for _ in my_celcius_generator)"
   ]
  },
  {
   "cell_type": "markdown",
   "metadata": {},
   "source": [
    "###  Let's use map and the function we defined earlier to convert to the other scale"
   ]
  },
  {
   "cell_type": "code",
   "execution_count": 20,
   "metadata": {},
   "outputs": [
    {
     "data": {
      "text/plain": [
       "[77.77347532410806,\n",
       " 42.60978245480845,\n",
       " 42.48469266812298,\n",
       " 80.8616284507293,\n",
       " 69.00548804779963,\n",
       " 67.7870192087143,\n",
       " 42.481648443150796,\n",
       " 49.985657731113776,\n",
       " 41.75102254358427,\n",
       " 31.593546273489007,\n",
       " 31.944755644654986,\n",
       " 22.902832977868357,\n",
       " 55.11748451919088,\n",
       " 49.00471521938067,\n",
       " 27.263316316018447,\n",
       " 45.06852813491787,\n",
       " 26.482398512671708,\n",
       " 75.28080712081734,\n",
       " 22.966108206005472,\n",
       " 41.74448846164186]"
      ]
     },
     "execution_count": 20,
     "metadata": {},
     "output_type": "execute_result"
    }
   ],
   "source": [
    "list(map(farenheit, my_celcius_tuple))"
   ]
  },
  {
   "cell_type": "code",
   "execution_count": 21,
   "metadata": {},
   "outputs": [
    {
     "data": {
      "text/plain": [
       "(77.77347532410806,\n",
       " 42.60978245480845,\n",
       " 42.48469266812298,\n",
       " 80.8616284507293,\n",
       " 69.00548804779963,\n",
       " 67.7870192087143,\n",
       " 42.481648443150796,\n",
       " 49.985657731113776,\n",
       " 41.75102254358427,\n",
       " 31.593546273489007,\n",
       " 31.944755644654986,\n",
       " 22.902832977868357,\n",
       " 55.11748451919088,\n",
       " 49.00471521938067,\n",
       " 27.263316316018447,\n",
       " 45.06852813491787,\n",
       " 26.482398512671708,\n",
       " 75.28080712081734,\n",
       " 22.966108206005472,\n",
       " 41.74448846164186)"
      ]
     },
     "execution_count": 21,
     "metadata": {},
     "output_type": "execute_result"
    }
   ],
   "source": [
    "tuple(map(farenheit, my_celcius_tuple))"
   ]
  },
  {
   "cell_type": "code",
   "execution_count": 22,
   "metadata": {
    "collapsed": true
   },
   "outputs": [],
   "source": [
    "my_celcius_temps = tuple(map(farenheit, my_celcius_tuple))"
   ]
  },
  {
   "cell_type": "markdown",
   "metadata": {},
   "source": [
    "###  Now let's take a look at filter()"
   ]
  },
  {
   "cell_type": "code",
   "execution_count": 23,
   "metadata": {
    "collapsed": true
   },
   "outputs": [],
   "source": [
    "def too_hot_for_me(temp):\n",
    "    return temp > 80"
   ]
  },
  {
   "cell_type": "code",
   "execution_count": 24,
   "metadata": {},
   "outputs": [
    {
     "data": {
      "text/plain": [
       "(80.8616284507293,)"
      ]
     },
     "execution_count": 24,
     "metadata": {},
     "output_type": "execute_result"
    }
   ],
   "source": [
    "tuple(filter(too_hot_for_me, my_celcius_temps))"
   ]
  },
  {
   "cell_type": "markdown",
   "metadata": {},
   "source": [
    "###  reduce()"
   ]
  },
  {
   "cell_type": "code",
   "execution_count": 25,
   "metadata": {
    "collapsed": true
   },
   "outputs": [],
   "source": [
    "from functools import reduce"
   ]
  },
  {
   "cell_type": "code",
   "execution_count": 27,
   "metadata": {},
   "outputs": [
    {
     "data": {
      "text/plain": [
       "80.8616284507293"
      ]
     },
     "execution_count": 27,
     "metadata": {},
     "output_type": "execute_result"
    }
   ],
   "source": [
    "reduce(max, my_celcius_temps)"
   ]
  },
  {
   "cell_type": "code",
   "execution_count": 28,
   "metadata": {},
   "outputs": [
    {
     "data": {
      "text/plain": [
       "22.902832977868357"
      ]
     },
     "execution_count": 28,
     "metadata": {},
     "output_type": "execute_result"
    }
   ],
   "source": [
    "reduce(min, my_celcius_temps)"
   ]
  },
  {
   "cell_type": "markdown",
   "metadata": {},
   "source": [
    "###  Map, filter and reduce tend to travel together, yet reduce needs to be imported. Perhaps this is why...."
   ]
  },
  {
   "cell_type": "code",
   "execution_count": 29,
   "metadata": {},
   "outputs": [
    {
     "data": {
      "text/plain": [
       "80.8616284507293"
      ]
     },
     "execution_count": 29,
     "metadata": {},
     "output_type": "execute_result"
    }
   ],
   "source": [
    "max(my_celcius_temps)"
   ]
  },
  {
   "cell_type": "code",
   "execution_count": 30,
   "metadata": {},
   "outputs": [
    {
     "data": {
      "text/plain": [
       "22.902832977868357"
      ]
     },
     "execution_count": 30,
     "metadata": {},
     "output_type": "execute_result"
    }
   ],
   "source": [
    "min(my_celcius_temps)"
   ]
  },
  {
   "cell_type": "markdown",
   "metadata": {},
   "source": [
    "###  Let's revisit the too_hot_for_me scnerio from a few lines above. Is there anyway to generalize it?"
   ]
  },
  {
   "cell_type": "code",
   "execution_count": 31,
   "metadata": {
    "collapsed": true
   },
   "outputs": [],
   "source": [
    "def too_hot(pain_temp):\n",
    "    def my_func(temp):\n",
    "        return temp > pain_temp\n",
    "    return my_func"
   ]
  },
  {
   "cell_type": "markdown",
   "metadata": {},
   "source": [
    "###  Why yes. This is called a closure.  Take a close look at what is being passed in, where and to what the argument is bound, and what is being returned. And now here is how we use it...."
   ]
  },
  {
   "cell_type": "code",
   "execution_count": 32,
   "metadata": {
    "collapsed": true
   },
   "outputs": [],
   "source": [
    "too_hot_for_a_seattlite = too_hot(80.0)\n",
    "too_hot_for_an_alaskan = too_hot(70.0)"
   ]
  },
  {
   "cell_type": "code",
   "execution_count": 33,
   "metadata": {},
   "outputs": [
    {
     "data": {
      "text/plain": [
       "<function __main__.too_hot.<locals>.my_func>"
      ]
     },
     "execution_count": 33,
     "metadata": {},
     "output_type": "execute_result"
    }
   ],
   "source": [
    "too_hot_for_a_seattlite"
   ]
  },
  {
   "cell_type": "code",
   "execution_count": 34,
   "metadata": {},
   "outputs": [
    {
     "data": {
      "text/plain": [
       "(80.8616284507293,)"
      ]
     },
     "execution_count": 34,
     "metadata": {},
     "output_type": "execute_result"
    }
   ],
   "source": [
    "tuple(filter(too_hot_for_a_seattlite, my_celcius_temps))"
   ]
  },
  {
   "cell_type": "code",
   "execution_count": 35,
   "metadata": {},
   "outputs": [
    {
     "data": {
      "text/plain": [
       "(77.77347532410806, 80.8616284507293, 75.28080712081734)"
      ]
     },
     "execution_count": 35,
     "metadata": {},
     "output_type": "execute_result"
    }
   ],
   "source": [
    "tuple(filter(too_hot_for_an_alaskan, my_celcius_temps))"
   ]
  },
  {
   "cell_type": "code",
   "execution_count": null,
   "metadata": {
    "collapsed": true
   },
   "outputs": [],
   "source": []
  }
 ],
 "metadata": {
  "kernelspec": {
   "display_name": "Python 2",
   "language": "python",
   "name": "python2"
  },
  "language_info": {
   "codemirror_mode": {
    "name": "ipython",
    "version": 2
   },
   "file_extension": ".py",
   "mimetype": "text/x-python",
   "name": "python",
   "nbconvert_exporter": "python",
   "pygments_lexer": "ipython2",
   "version": "2.7.13"
  }
 },
 "nbformat": 4,
 "nbformat_minor": 1
}
