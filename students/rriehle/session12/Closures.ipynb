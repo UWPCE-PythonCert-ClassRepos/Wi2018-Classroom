{
 "cells": [
  {
   "cell_type": "markdown",
   "metadata": {},
   "source": [
    "# Closures"
   ]
  },
  {
   "cell_type": "markdown",
   "metadata": {},
   "source": [
    "> The venerable master Qc Na was walking with his student, Anton. Hoping to prompt the master into a discussion, Anton said “Master, I have heard that objects (and classes) are a very good thing - is this true?” Qc Na looked pityingly at his student and replied, “Foolish pupil - objects are merely a poor man’s closures.”\n",
    "\n",
    "> Chastised, Anton took his leave from his master and returned to his cell, intent on studying closures. He carefully read the entire “Lambda: The Ultimate…” series of papers and its cousins, and implemented a small Scheme interpreter with a closure-based object system. He learned much, and looked forward to informing his master of his progress.\n",
    "\n",
    "> On his next walk with Qc Na, Anton attempted to impress his master by saying “Master, I have diligently studied the matter, and now understand that objects are truly a poor man’s closures.” Qc Na responded by hitting Anton with his stick, saying “When will you learn? Closures are a poor man’s object.” At that moment, Anton became enlightened.\n",
    "\n",
    "> &mdash; <cite>http://wiki.c2.com/?ClosuresAndObjectsAreEquivalent</cite>"
   ]
  },
  {
   "cell_type": "markdown",
   "metadata": {},
   "source": [
    "What exactly are Closures, these mysterious things that offer programming enlightenment? Before we consider a formal definition, let’s continue to compare and contrast closures with objects.\n",
    "\n",
    "* Objects have methods.\n",
    "* Closures are methods — they are defined and behave like functions, but like object methods they carry internal state and take it into account when returning results.\n",
    "* Objects can, and generally do, carry mutable state.\n",
    "* Closures can, and often do, carry mutable state.\n",
    "* Objects control access to their attributes — their internal state — through Properties and Python’s lexical scoping rules. By default however object attributes are externally accessible.\n",
    "* Closures by nature tend to close around their internal state and thereby prevent external access, thus in terms of access to internal state, internal attributes, this is the opposite of the default behavior of an object. In accordance with Python’s Consenting Adults policy a closure’s internal state is still accessible via its ``__closure__`` dunder, but this violates the spirit of a closure — so do so at your own risk.\n",
    "* Thus, objects (or classes) and closures are similar, but different.\n",
    "\n",
    "This is the general form of a closure:"
   ]
  },
  {
   "cell_type": "code",
   "execution_count": null,
   "metadata": {},
   "outputs": [],
   "source": [
    "def closure(internal_state):  # line 1\n",
    "    def return_function(arguments):  # line 2\n",
    "        return internal_state combined with arguments  # line 3\n",
    "    return return_function  # line 4"
   ]
  },
  {
   "cell_type": "markdown",
   "metadata": {},
   "source": [
    "Let’s unpack that line by line.\n",
    "\n",
    "1.  The closure is defined like any other function with a name and arguments. In this case the name of the function is ``closure`` and its arguments are ``internal_state``.\n",
    "2.  Inside the closure another function is defined. It too takes arguments. In this case its name is ``return_function``, because _this internally defined function itself will be returned by the closure._\n",
    "3.  When calculating a return value the internal function, ``return_function``, uses both the ``internal state`` passed into the closure on line 1 when the closure was first defined, and also the arguments that will be passed into it later when it is used as a stand-alone function.\n",
    "4.  The closure uses the internally defined function, ``return_function`` for its return value. **Thus, just as a class is a template or factory for creating stateful objects, a closure is a template or factory for creating stateful functions, that is, stand-alone methods.**"
   ]
  },
  {
   "cell_type": "markdown",
   "metadata": {},
   "source": [
    "# [Video: Closures]"
   ]
  },
  {
   "cell_type": "markdown",
   "metadata": {},
   "source": [
    "### Functions within functions"
   ]
  },
  {
   "cell_type": "markdown",
   "metadata": {},
   "source": [
    "We’ve been defining functions within functions to explore namespace scope. But functions are “first class objects” in python, so we can not only define them and call them, but we can assign names to them and pass them around like any other object.\n",
    "\n",
    "So after we define a function within a function, we can actually return that function as an object:"
   ]
  },
  {
   "cell_type": "code",
   "execution_count": null,
   "metadata": {},
   "outputs": [],
   "source": [
    "def counter(start_at=0):\n",
    "    count = start_at\n",
    "    def incr():\n",
    "        nonlocal count\n",
    "        count += 1\n",
    "        return count\n",
    "    return incr"
   ]
  },
  {
   "cell_type": "markdown",
   "metadata": {},
   "source": [
    "So this looks a lot like the previous examples, but we are returning the function that was defined inside the function.\n",
    "\n",
    "What is going on here?\n",
    "\n",
    "We have passed the ``start_at`` value into the ``counter`` function.\n",
    "\n",
    "We have stored it in ``counter``’s scope as a local variable: ``count``.\n",
    "\n",
    "Then we defined a function, ``incr`` that adds one to the value of count, and returns that value.\n",
    "\n",
    "Note that we declared count to be nonlocal in ``incr``’s scope, so that it would be the same count that’s in ``counter``’s scope.\n",
    "\n",
    "What type of object do you get when you call ``counter()``?"
   ]
  },
  {
   "cell_type": "code",
   "execution_count": null,
   "metadata": {},
   "outputs": [],
   "source": [
    "c = counter(start_at=5)"
   ]
  },
  {
   "cell_type": "code",
   "execution_count": null,
   "metadata": {},
   "outputs": [],
   "source": [
    "type(c)"
   ]
  },
  {
   "cell_type": "markdown",
   "metadata": {},
   "source": [
    "So we get a function back – makes sense. The ``def`` defines a function, and that function is what’s getting returned.\n",
    "\n",
    "Being a function, we can, of course, call it:"
   ]
  },
  {
   "cell_type": "code",
   "execution_count": null,
   "metadata": {},
   "outputs": [],
   "source": [
    "c()"
   ]
  },
  {
   "cell_type": "code",
   "execution_count": null,
   "metadata": {},
   "outputs": [],
   "source": [
    "c()"
   ]
  },
  {
   "cell_type": "markdown",
   "metadata": {},
   "source": [
    "Each time is it called, it increments the value by one – as you’d expect.\n",
    "\n",
    "But what happens if we call ``counter()`` multiple times?"
   ]
  },
  {
   "cell_type": "code",
   "execution_count": null,
   "metadata": {},
   "outputs": [],
   "source": [
    "c1 = counter(5)"
   ]
  },
  {
   "cell_type": "code",
   "execution_count": null,
   "metadata": {},
   "outputs": [],
   "source": [
    "c2 = counter(10)"
   ]
  },
  {
   "cell_type": "code",
   "execution_count": null,
   "metadata": {},
   "outputs": [],
   "source": [
    "c1()"
   ]
  },
  {
   "cell_type": "code",
   "execution_count": null,
   "metadata": {},
   "outputs": [],
   "source": [
    "c2()"
   ]
  },
  {
   "cell_type": "markdown",
   "metadata": {},
   "source": [
    "So each time ``counter()`` is called, a new ``incr`` function is created. But also, a new namespace is created, that holds the count name. So the new ``incr`` function is holding a reference to that new count name.\n",
    "\n",
    "This is what makes in a “closure” – it carries with it the scope in which is was created.\n"
   ]
  },
  {
   "cell_type": "code",
   "execution_count": null,
   "metadata": {},
   "outputs": [],
   "source": []
  }
 ],
 "metadata": {
  "kernelspec": {
   "display_name": "Python 3",
   "language": "python",
   "name": "python3"
  },
  "language_info": {
   "codemirror_mode": {
    "name": "ipython",
    "version": 3
   },
   "file_extension": ".py",
   "mimetype": "text/x-python",
   "name": "python",
   "nbconvert_exporter": "python",
   "pygments_lexer": "ipython3",
   "version": "3.6.4"
  }
 },
 "nbformat": 4,
 "nbformat_minor": 2
}
