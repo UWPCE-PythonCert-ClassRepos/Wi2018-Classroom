{
 "cells": [
  {
   "cell_type": "markdown",
   "metadata": {},
   "source": [
    "# Currying\n",
    "\n",
    "Currying is a special case of closures:\n",
    "\n",
    "The idea behind currying is that you may have a function with a number of parameters, and you want to make a specialized version that function with a couple parameters pre-set.\n",
    "\n",
    "### Real world Example\n",
    "\n",
    "I was writing some code to compute the concentration of a contaminant in a river, as it was reduced by exponential decay, defined by a half-life:\n",
    "\n",
    "https://en.wikipedia.org/wiki/Half-life\n",
    "\n",
    "So I wanted a function that would compute how much the concentration would reduce as a function of time – that is:"
   ]
  },
  {
   "cell_type": "code",
   "execution_count": null,
   "metadata": {},
   "outputs": [],
   "source": [
    "def scale(time):\n",
    "    return scale_factor"
   ]
  },
  {
   "cell_type": "markdown",
   "metadata": {},
   "source": [
    "The trick is, how much the concentration would be reduced depends on both time and the half life. And for a given material, and given flow conditions in the river, that half life is pre-determined. Once you know the half-life, the scale is given by:\n",
    "\n",
    "scale = 0.5 ** (time / (half_life))\n",
    "\n",
    "So to compute the scale, I could pass that half-life in each time I called the function:"
   ]
  },
  {
   "cell_type": "code",
   "execution_count": null,
   "metadata": {},
   "outputs": [],
   "source": [
    "def scale(time, half_life):\n",
    "    return 0.5 ** (time / (half_life))"
   ]
  },
  {
   "cell_type": "markdown",
   "metadata": {},
   "source": [
    "But this is a bit klunky – I need to keep passing that half_life around, even though it isn’t changing. And there are places, like ``map`` that require a function that takes only one argument!\n",
    "\n",
    "What if I could create a function, on the fly, that had a particular half-life “baked in”?\n",
    "\n",
    "Enter Currying.  Currying is a technique where you reduce the number of parameters that function takes, creating a specialized function with one or more of the original parameters set to a particular value. Here is that technique, applied to the half-life decay problem:"
   ]
  },
  {
   "cell_type": "code",
   "execution_count": null,
   "metadata": {},
   "outputs": [],
   "source": [
    "def get_scale_fun(half_life):\n",
    "    def half_life(time)\n",
    "        return 0.5 ** (time / half_life)\n",
    "    return half_life"
   ]
  },
  {
   "cell_type": "markdown",
   "metadata": {},
   "source": [
    "Create a scale function with a half-life of one hour:"
   ]
  },
  {
   "cell_type": "code",
   "execution_count": null,
   "metadata": {},
   "outputs": [],
   "source": [
    "scale = get_scale_fun(1)"
   ]
  },
  {
   "cell_type": "code",
   "execution_count": null,
   "metadata": {},
   "outputs": [],
   "source": [
    "[scale(t) for t in range(7)]"
   ]
  },
  {
   "cell_type": "markdown",
   "metadata": {},
   "source": [
    "The value is reduced by half every hour.\n",
    "\n",
    "Now create one with a half life of 2 hours:"
   ]
  },
  {
   "cell_type": "code",
   "execution_count": null,
   "metadata": {},
   "outputs": [],
   "source": [
    "scale = get_scale_fun(2)"
   ]
  },
  {
   "cell_type": "code",
   "execution_count": null,
   "metadata": {},
   "outputs": [],
   "source": [
    "[scale(t) for t in range(7)]"
   ]
  },
  {
   "cell_type": "markdown",
   "metadata": {},
   "source": [
    "And the value is reduced by half every two hours…\n",
    "\n",
    "And it can be used with ``map``, too."
   ]
  },
  {
   "cell_type": "code",
   "execution_count": null,
   "metadata": {},
   "outputs": [],
   "source": [
    "list(map(scale, range(7)))"
   ]
  },
  {
   "cell_type": "markdown",
   "metadata": {},
   "source": [
    "# [Video: Currying... or maybe we called it functools?]"
   ]
  },
  {
   "cell_type": "code",
   "execution_count": null,
   "metadata": {},
   "outputs": [],
   "source": []
  }
 ],
 "metadata": {
  "kernelspec": {
   "display_name": "Python 3",
   "language": "python",
   "name": "python3"
  },
  "language_info": {
   "codemirror_mode": {
    "name": "ipython",
    "version": 3
   },
   "file_extension": ".py",
   "mimetype": "text/x-python",
   "name": "python",
   "nbconvert_exporter": "python",
   "pygments_lexer": "ipython3",
   "version": "3.6.4"
  }
 },
 "nbformat": 4,
 "nbformat_minor": 2
}
