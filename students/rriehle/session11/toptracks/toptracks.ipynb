{
 "cells": [
  {
   "cell_type": "code",
   "execution_count": 1,
   "metadata": {},
   "outputs": [],
   "source": [
    "### Import pandas\n",
    "import pandas as pd"
   ]
  },
  {
   "cell_type": "code",
   "execution_count": 2,
   "metadata": {},
   "outputs": [],
   "source": [
    "### Load the data into a Pandas Dataframe\n",
    "music = pd.read_csv(\"featuresdf.csv\")"
   ]
  },
  {
   "cell_type": "code",
   "execution_count": 3,
   "metadata": {},
   "outputs": [
    {
     "data": {
      "text/html": [
       "<div>\n",
       "<style scoped>\n",
       "    .dataframe tbody tr th:only-of-type {\n",
       "        vertical-align: middle;\n",
       "    }\n",
       "\n",
       "    .dataframe tbody tr th {\n",
       "        vertical-align: top;\n",
       "    }\n",
       "\n",
       "    .dataframe thead th {\n",
       "        text-align: right;\n",
       "    }\n",
       "</style>\n",
       "<table border=\"1\" class=\"dataframe\">\n",
       "  <thead>\n",
       "    <tr style=\"text-align: right;\">\n",
       "      <th></th>\n",
       "      <th>id</th>\n",
       "      <th>name</th>\n",
       "      <th>artists</th>\n",
       "      <th>danceability</th>\n",
       "      <th>energy</th>\n",
       "      <th>key</th>\n",
       "      <th>loudness</th>\n",
       "      <th>mode</th>\n",
       "      <th>speechiness</th>\n",
       "      <th>acousticness</th>\n",
       "      <th>instrumentalness</th>\n",
       "      <th>liveness</th>\n",
       "      <th>valence</th>\n",
       "      <th>tempo</th>\n",
       "      <th>duration_ms</th>\n",
       "      <th>time_signature</th>\n",
       "    </tr>\n",
       "  </thead>\n",
       "  <tbody>\n",
       "    <tr>\n",
       "      <th>0</th>\n",
       "      <td>7qiZfU4dY1lWllzX7mPBI</td>\n",
       "      <td>Shape of You</td>\n",
       "      <td>Ed Sheeran</td>\n",
       "      <td>0.825</td>\n",
       "      <td>0.652</td>\n",
       "      <td>1.0</td>\n",
       "      <td>-3.183</td>\n",
       "      <td>0.0</td>\n",
       "      <td>0.0802</td>\n",
       "      <td>0.5810</td>\n",
       "      <td>0.000000</td>\n",
       "      <td>0.0931</td>\n",
       "      <td>0.931</td>\n",
       "      <td>95.977</td>\n",
       "      <td>233713.0</td>\n",
       "      <td>4.0</td>\n",
       "    </tr>\n",
       "    <tr>\n",
       "      <th>1</th>\n",
       "      <td>5CtI0qwDJkDQGwXD1H1cL</td>\n",
       "      <td>Despacito - Remix</td>\n",
       "      <td>Luis Fonsi</td>\n",
       "      <td>0.694</td>\n",
       "      <td>0.815</td>\n",
       "      <td>2.0</td>\n",
       "      <td>-4.328</td>\n",
       "      <td>1.0</td>\n",
       "      <td>0.1200</td>\n",
       "      <td>0.2290</td>\n",
       "      <td>0.000000</td>\n",
       "      <td>0.0924</td>\n",
       "      <td>0.813</td>\n",
       "      <td>88.931</td>\n",
       "      <td>228827.0</td>\n",
       "      <td>4.0</td>\n",
       "    </tr>\n",
       "    <tr>\n",
       "      <th>2</th>\n",
       "      <td>4aWmUDTfIPGksMNLV2rQP</td>\n",
       "      <td>Despacito (Featuring Daddy Yankee)</td>\n",
       "      <td>Luis Fonsi</td>\n",
       "      <td>0.660</td>\n",
       "      <td>0.786</td>\n",
       "      <td>2.0</td>\n",
       "      <td>-4.757</td>\n",
       "      <td>1.0</td>\n",
       "      <td>0.1700</td>\n",
       "      <td>0.2090</td>\n",
       "      <td>0.000000</td>\n",
       "      <td>0.1120</td>\n",
       "      <td>0.846</td>\n",
       "      <td>177.833</td>\n",
       "      <td>228200.0</td>\n",
       "      <td>4.0</td>\n",
       "    </tr>\n",
       "    <tr>\n",
       "      <th>3</th>\n",
       "      <td>6RUKPb4LETWmmr3iAEQkt</td>\n",
       "      <td>Something Just Like This</td>\n",
       "      <td>The Chainsmokers</td>\n",
       "      <td>0.617</td>\n",
       "      <td>0.635</td>\n",
       "      <td>11.0</td>\n",
       "      <td>-6.769</td>\n",
       "      <td>0.0</td>\n",
       "      <td>0.0317</td>\n",
       "      <td>0.0498</td>\n",
       "      <td>0.000014</td>\n",
       "      <td>0.1640</td>\n",
       "      <td>0.446</td>\n",
       "      <td>103.019</td>\n",
       "      <td>247160.0</td>\n",
       "      <td>4.0</td>\n",
       "    </tr>\n",
       "    <tr>\n",
       "      <th>4</th>\n",
       "      <td>3DXncPQOG4VBw3QHh3S81</td>\n",
       "      <td>I'm the One</td>\n",
       "      <td>DJ Khaled</td>\n",
       "      <td>0.609</td>\n",
       "      <td>0.668</td>\n",
       "      <td>7.0</td>\n",
       "      <td>-4.284</td>\n",
       "      <td>1.0</td>\n",
       "      <td>0.0367</td>\n",
       "      <td>0.0552</td>\n",
       "      <td>0.000000</td>\n",
       "      <td>0.1670</td>\n",
       "      <td>0.811</td>\n",
       "      <td>80.924</td>\n",
       "      <td>288600.0</td>\n",
       "      <td>4.0</td>\n",
       "    </tr>\n",
       "  </tbody>\n",
       "</table>\n",
       "</div>"
      ],
      "text/plain": [
       "                      id                                name  \\\n",
       "0  7qiZfU4dY1lWllzX7mPBI                        Shape of You   \n",
       "1  5CtI0qwDJkDQGwXD1H1cL                   Despacito - Remix   \n",
       "2  4aWmUDTfIPGksMNLV2rQP  Despacito (Featuring Daddy Yankee)   \n",
       "3  6RUKPb4LETWmmr3iAEQkt            Something Just Like This   \n",
       "4  3DXncPQOG4VBw3QHh3S81                         I'm the One   \n",
       "\n",
       "            artists  danceability  energy   key  loudness  mode  speechiness  \\\n",
       "0        Ed Sheeran         0.825   0.652   1.0    -3.183   0.0       0.0802   \n",
       "1        Luis Fonsi         0.694   0.815   2.0    -4.328   1.0       0.1200   \n",
       "2        Luis Fonsi         0.660   0.786   2.0    -4.757   1.0       0.1700   \n",
       "3  The Chainsmokers         0.617   0.635  11.0    -6.769   0.0       0.0317   \n",
       "4         DJ Khaled         0.609   0.668   7.0    -4.284   1.0       0.0367   \n",
       "\n",
       "   acousticness  instrumentalness  liveness  valence    tempo  duration_ms  \\\n",
       "0        0.5810          0.000000    0.0931    0.931   95.977     233713.0   \n",
       "1        0.2290          0.000000    0.0924    0.813   88.931     228827.0   \n",
       "2        0.2090          0.000000    0.1120    0.846  177.833     228200.0   \n",
       "3        0.0498          0.000014    0.1640    0.446  103.019     247160.0   \n",
       "4        0.0552          0.000000    0.1670    0.811   80.924     288600.0   \n",
       "\n",
       "   time_signature  \n",
       "0             4.0  \n",
       "1             4.0  \n",
       "2             4.0  \n",
       "3             4.0  \n",
       "4             4.0  "
      ]
     },
     "execution_count": 3,
     "metadata": {},
     "output_type": "execute_result"
    }
   ],
   "source": [
    "### Let's take a look at the general shape of the data\n",
    "music.head()"
   ]
  },
  {
   "cell_type": "code",
   "execution_count": 4,
   "metadata": {},
   "outputs": [
    {
     "data": {
      "text/html": [
       "<div>\n",
       "<style scoped>\n",
       "    .dataframe tbody tr th:only-of-type {\n",
       "        vertical-align: middle;\n",
       "    }\n",
       "\n",
       "    .dataframe tbody tr th {\n",
       "        vertical-align: top;\n",
       "    }\n",
       "\n",
       "    .dataframe thead th {\n",
       "        text-align: right;\n",
       "    }\n",
       "</style>\n",
       "<table border=\"1\" class=\"dataframe\">\n",
       "  <thead>\n",
       "    <tr style=\"text-align: right;\">\n",
       "      <th></th>\n",
       "      <th>danceability</th>\n",
       "      <th>energy</th>\n",
       "      <th>key</th>\n",
       "      <th>loudness</th>\n",
       "      <th>mode</th>\n",
       "      <th>speechiness</th>\n",
       "      <th>acousticness</th>\n",
       "      <th>instrumentalness</th>\n",
       "      <th>liveness</th>\n",
       "      <th>valence</th>\n",
       "      <th>tempo</th>\n",
       "      <th>duration_ms</th>\n",
       "      <th>time_signature</th>\n",
       "    </tr>\n",
       "  </thead>\n",
       "  <tbody>\n",
       "    <tr>\n",
       "      <th>count</th>\n",
       "      <td>100.00000</td>\n",
       "      <td>100.000000</td>\n",
       "      <td>100.000000</td>\n",
       "      <td>100.000000</td>\n",
       "      <td>100.000000</td>\n",
       "      <td>100.000000</td>\n",
       "      <td>100.000000</td>\n",
       "      <td>100.000000</td>\n",
       "      <td>100.000000</td>\n",
       "      <td>100.000000</td>\n",
       "      <td>100.000000</td>\n",
       "      <td>100.00000</td>\n",
       "      <td>100.00</td>\n",
       "    </tr>\n",
       "    <tr>\n",
       "      <th>mean</th>\n",
       "      <td>0.69682</td>\n",
       "      <td>0.660690</td>\n",
       "      <td>5.570000</td>\n",
       "      <td>-5.652650</td>\n",
       "      <td>0.580000</td>\n",
       "      <td>0.103969</td>\n",
       "      <td>0.166306</td>\n",
       "      <td>0.004796</td>\n",
       "      <td>0.150607</td>\n",
       "      <td>0.517049</td>\n",
       "      <td>119.202460</td>\n",
       "      <td>218387.28000</td>\n",
       "      <td>3.99</td>\n",
       "    </tr>\n",
       "    <tr>\n",
       "      <th>std</th>\n",
       "      <td>0.12508</td>\n",
       "      <td>0.139207</td>\n",
       "      <td>3.731534</td>\n",
       "      <td>1.802067</td>\n",
       "      <td>0.496045</td>\n",
       "      <td>0.095115</td>\n",
       "      <td>0.166730</td>\n",
       "      <td>0.026038</td>\n",
       "      <td>0.079011</td>\n",
       "      <td>0.216436</td>\n",
       "      <td>27.952928</td>\n",
       "      <td>32851.07772</td>\n",
       "      <td>0.10</td>\n",
       "    </tr>\n",
       "    <tr>\n",
       "      <th>min</th>\n",
       "      <td>0.25800</td>\n",
       "      <td>0.346000</td>\n",
       "      <td>0.000000</td>\n",
       "      <td>-11.462000</td>\n",
       "      <td>0.000000</td>\n",
       "      <td>0.023200</td>\n",
       "      <td>0.000259</td>\n",
       "      <td>0.000000</td>\n",
       "      <td>0.042400</td>\n",
       "      <td>0.086200</td>\n",
       "      <td>75.016000</td>\n",
       "      <td>165387.00000</td>\n",
       "      <td>3.00</td>\n",
       "    </tr>\n",
       "    <tr>\n",
       "      <th>25%</th>\n",
       "      <td>0.63500</td>\n",
       "      <td>0.556500</td>\n",
       "      <td>2.000000</td>\n",
       "      <td>-6.594500</td>\n",
       "      <td>0.000000</td>\n",
       "      <td>0.043125</td>\n",
       "      <td>0.039100</td>\n",
       "      <td>0.000000</td>\n",
       "      <td>0.098275</td>\n",
       "      <td>0.375500</td>\n",
       "      <td>99.911750</td>\n",
       "      <td>198490.50000</td>\n",
       "      <td>4.00</td>\n",
       "    </tr>\n",
       "    <tr>\n",
       "      <th>50%</th>\n",
       "      <td>0.71400</td>\n",
       "      <td>0.667500</td>\n",
       "      <td>6.000000</td>\n",
       "      <td>-5.437000</td>\n",
       "      <td>1.000000</td>\n",
       "      <td>0.062650</td>\n",
       "      <td>0.106500</td>\n",
       "      <td>0.000000</td>\n",
       "      <td>0.125000</td>\n",
       "      <td>0.502500</td>\n",
       "      <td>112.468000</td>\n",
       "      <td>214106.00000</td>\n",
       "      <td>4.00</td>\n",
       "    </tr>\n",
       "    <tr>\n",
       "      <th>75%</th>\n",
       "      <td>0.77025</td>\n",
       "      <td>0.787500</td>\n",
       "      <td>9.000000</td>\n",
       "      <td>-4.326750</td>\n",
       "      <td>1.000000</td>\n",
       "      <td>0.123000</td>\n",
       "      <td>0.231250</td>\n",
       "      <td>0.000013</td>\n",
       "      <td>0.179250</td>\n",
       "      <td>0.679000</td>\n",
       "      <td>137.166000</td>\n",
       "      <td>230543.00000</td>\n",
       "      <td>4.00</td>\n",
       "    </tr>\n",
       "    <tr>\n",
       "      <th>max</th>\n",
       "      <td>0.92700</td>\n",
       "      <td>0.932000</td>\n",
       "      <td>11.000000</td>\n",
       "      <td>-2.396000</td>\n",
       "      <td>1.000000</td>\n",
       "      <td>0.431000</td>\n",
       "      <td>0.695000</td>\n",
       "      <td>0.210000</td>\n",
       "      <td>0.440000</td>\n",
       "      <td>0.966000</td>\n",
       "      <td>199.864000</td>\n",
       "      <td>343150.00000</td>\n",
       "      <td>4.00</td>\n",
       "    </tr>\n",
       "  </tbody>\n",
       "</table>\n",
       "</div>"
      ],
      "text/plain": [
       "       danceability      energy         key    loudness        mode  \\\n",
       "count     100.00000  100.000000  100.000000  100.000000  100.000000   \n",
       "mean        0.69682    0.660690    5.570000   -5.652650    0.580000   \n",
       "std         0.12508    0.139207    3.731534    1.802067    0.496045   \n",
       "min         0.25800    0.346000    0.000000  -11.462000    0.000000   \n",
       "25%         0.63500    0.556500    2.000000   -6.594500    0.000000   \n",
       "50%         0.71400    0.667500    6.000000   -5.437000    1.000000   \n",
       "75%         0.77025    0.787500    9.000000   -4.326750    1.000000   \n",
       "max         0.92700    0.932000   11.000000   -2.396000    1.000000   \n",
       "\n",
       "       speechiness  acousticness  instrumentalness    liveness     valence  \\\n",
       "count   100.000000    100.000000        100.000000  100.000000  100.000000   \n",
       "mean      0.103969      0.166306          0.004796    0.150607    0.517049   \n",
       "std       0.095115      0.166730          0.026038    0.079011    0.216436   \n",
       "min       0.023200      0.000259          0.000000    0.042400    0.086200   \n",
       "25%       0.043125      0.039100          0.000000    0.098275    0.375500   \n",
       "50%       0.062650      0.106500          0.000000    0.125000    0.502500   \n",
       "75%       0.123000      0.231250          0.000013    0.179250    0.679000   \n",
       "max       0.431000      0.695000          0.210000    0.440000    0.966000   \n",
       "\n",
       "            tempo   duration_ms  time_signature  \n",
       "count  100.000000     100.00000          100.00  \n",
       "mean   119.202460  218387.28000            3.99  \n",
       "std     27.952928   32851.07772            0.10  \n",
       "min     75.016000  165387.00000            3.00  \n",
       "25%     99.911750  198490.50000            4.00  \n",
       "50%    112.468000  214106.00000            4.00  \n",
       "75%    137.166000  230543.00000            4.00  \n",
       "max    199.864000  343150.00000            4.00  "
      ]
     },
     "execution_count": 4,
     "metadata": {},
     "output_type": "execute_result"
    }
   ],
   "source": [
    "### Any insights to be gained by the usual descriptive statistics?\n",
    "music.describe()"
   ]
  },
  {
   "cell_type": "markdown",
   "metadata": {},
   "source": [
    "### Comprehensions"
   ]
  },
  {
   "cell_type": "code",
   "execution_count": 5,
   "metadata": {
    "scrolled": true
   },
   "outputs": [
    {
     "data": {
      "text/plain": [
       "[0.825,\n",
       " 0.904,\n",
       " 0.853,\n",
       " 0.833,\n",
       " 0.857,\n",
       " 0.809,\n",
       " 0.8690000000000001,\n",
       " 0.893,\n",
       " 0.852,\n",
       " 0.927,\n",
       " 0.927,\n",
       " 0.818,\n",
       " 0.8759999999999999,\n",
       " 0.841,\n",
       " 0.8320000000000001,\n",
       " 0.855,\n",
       " 0.884]"
      ]
     },
     "execution_count": 5,
     "metadata": {},
     "output_type": "execute_result"
    }
   ],
   "source": [
    "### Get dancability scores over 0.8 as a list via a list comprehension\n",
    "[x for x in music.danceability if x > 0.8]"
   ]
  },
  {
   "cell_type": "code",
   "execution_count": 6,
   "metadata": {},
   "outputs": [
    {
     "data": {
      "text/plain": [
       "[(0.825, 'Ed Sheeran'),\n",
       " (0.904, 'Kendrick Lamar'),\n",
       " (0.853, 'Bruno Mars'),\n",
       " (0.833, 'Future'),\n",
       " (0.857, 'Shawn Mendes'),\n",
       " (0.809, 'Drake'),\n",
       " (0.8690000000000001, 'Liam Payne'),\n",
       " (0.893, 'Calvin Harris'),\n",
       " (0.852, 'Shakira'),\n",
       " (0.927, 'Migos'),\n",
       " (0.927, 'Drake'),\n",
       " (0.818, 'Bruno Mars'),\n",
       " (0.8759999999999999, 'Jax Jones'),\n",
       " (0.841, 'Travis Scott'),\n",
       " (0.8320000000000001, 'Zion & Lennox'),\n",
       " (0.855, 'Rita Ora'),\n",
       " (0.884, '21 Savage')]"
      ]
     },
     "execution_count": 6,
     "metadata": {},
     "output_type": "execute_result"
    }
   ],
   "source": [
    "### Get dancability and artists\n",
    "[(x, y) for (x, y) in zip(music.danceability, music.artists) if x > 0.8]"
   ]
  },
  {
   "cell_type": "code",
   "execution_count": 7,
   "metadata": {},
   "outputs": [],
   "source": [
    "### Sort function\n",
    "def sort_dancability_descending(my_tupple):\n",
    "    return -my_tupple[1]  # 1 is dancability's position in the tuple; negative makes the sort descending"
   ]
  },
  {
   "cell_type": "code",
   "execution_count": 8,
   "metadata": {},
   "outputs": [
    {
     "data": {
      "text/plain": [
       "[('Migos', 0.927),\n",
       " ('Drake', 0.927),\n",
       " ('Kendrick Lamar', 0.904),\n",
       " ('Calvin Harris', 0.893),\n",
       " ('21 Savage', 0.884),\n",
       " ('Jax Jones', 0.8759999999999999),\n",
       " ('Liam Payne', 0.8690000000000001),\n",
       " ('Shawn Mendes', 0.857),\n",
       " ('Rita Ora', 0.855),\n",
       " ('Bruno Mars', 0.853),\n",
       " ('Shakira', 0.852),\n",
       " ('Travis Scott', 0.841),\n",
       " ('Future', 0.833),\n",
       " ('Zion & Lennox', 0.8320000000000001),\n",
       " ('Ed Sheeran', 0.825),\n",
       " ('Bruno Mars', 0.818),\n",
       " ('Drake', 0.809)]"
      ]
     },
     "execution_count": 8,
     "metadata": {},
     "output_type": "execute_result"
    }
   ],
   "source": [
    "### Get a list of artists with dancability scores above 0.8 sorted in descending order\n",
    "sorted([(x, y) for (x, y) in zip(music.artists, music.danceability) if y > 0.8], key=sort_dancability_descending)"
   ]
  },
  {
   "cell_type": "code",
   "execution_count": 9,
   "metadata": {},
   "outputs": [
    {
     "data": {
      "text/plain": [
       "[('Migos', 0.927),\n",
       " ('Drake', 0.927),\n",
       " ('Kendrick Lamar', 0.904),\n",
       " ('Calvin Harris', 0.893),\n",
       " ('21 Savage', 0.884),\n",
       " ('Jax Jones', 0.8759999999999999),\n",
       " ('Liam Payne', 0.8690000000000001),\n",
       " ('Shawn Mendes', 0.857),\n",
       " ('Rita Ora', 0.855),\n",
       " ('Bruno Mars', 0.853),\n",
       " ('Shakira', 0.852),\n",
       " ('Travis Scott', 0.841),\n",
       " ('Future', 0.833),\n",
       " ('Zion & Lennox', 0.8320000000000001),\n",
       " ('Ed Sheeran', 0.825),\n",
       " ('Bruno Mars', 0.818),\n",
       " ('Drake', 0.809)]"
      ]
     },
     "execution_count": 9,
     "metadata": {},
     "output_type": "execute_result"
    }
   ],
   "source": [
    "### Same, using a lambda. Ugh, blech, ugly. Your asthetic response is yours, mine is mine.\n",
    "sorted([(x, y) for (x, y) in zip(music.artists, music.danceability) if y > 0.8], key=lambda z: -z[1])"
   ]
  },
  {
   "cell_type": "code",
   "execution_count": 10,
   "metadata": {},
   "outputs": [
    {
     "data": {
      "text/plain": [
       "[('Migos', 0.927, -5.313, 'Bad and Boujee (feat. Lil Uzi Vert)'),\n",
       " ('Drake', 0.927, -9.433, 'Fake Love'),\n",
       " ('Kendrick Lamar', 0.904, -6.8420000000000005, 'HUMBLE.'),\n",
       " ('21 Savage', 0.884, -8.228, 'Bank Account'),\n",
       " ('Jax Jones',\n",
       "  0.8759999999999999,\n",
       "  -6.053999999999999,\n",
       "  \"You Don't Know Me - Radio Edit\"),\n",
       " ('Liam Payne', 0.8690000000000001, -5.595, 'Strip That Down'),\n",
       " ('Future', 0.833, -8.795, 'Mask Off'),\n",
       " ('Zion & Lennox',\n",
       "  0.8320000000000001,\n",
       "  -5.428999999999999,\n",
       "  'Otra Vez (feat. J Balvin)'),\n",
       " ('Drake', 0.809, -11.377, 'Passionfruit')]"
      ]
     },
     "execution_count": 10,
     "metadata": {},
     "output_type": "execute_result"
    }
   ],
   "source": [
    "### Get artists and song names with high dancability and low volume sorted by dancability descending\n",
    "sorted([(w, x, y, z) for (w, x, y, z) in zip(music.artists, music.danceability, music.loudness, music.name) if x > 0.8 and y < -5.0], key=sort_dancability_descending)"
   ]
  },
  {
   "cell_type": "markdown",
   "metadata": {},
   "source": [
    "### Got out to Spotify or Youtube and listen to the top few tracks to decide if it's safe to come back to pop music."
   ]
  },
  {
   "cell_type": "markdown",
   "metadata": {},
   "source": [
    "### Generators"
   ]
  },
  {
   "cell_type": "code",
   "execution_count": 11,
   "metadata": {},
   "outputs": [],
   "source": [
    "ed_generator = (x for x in music.artists if 'Sheeran' in x)"
   ]
  },
  {
   "cell_type": "code",
   "execution_count": 12,
   "metadata": {},
   "outputs": [
    {
     "data": {
      "text/plain": [
       "'Ed Sheeran'"
      ]
     },
     "execution_count": 12,
     "metadata": {},
     "output_type": "execute_result"
    }
   ],
   "source": [
    "next(ed_generator)"
   ]
  },
  {
   "cell_type": "code",
   "execution_count": 13,
   "metadata": {},
   "outputs": [],
   "source": [
    "ed_generator = (name for artist, name in zip(music.artists, music.name) if 'Sheeran' in artist)"
   ]
  },
  {
   "cell_type": "code",
   "execution_count": 14,
   "metadata": {},
   "outputs": [
    {
     "data": {
      "text/plain": [
       "'Shape of You'"
      ]
     },
     "execution_count": 14,
     "metadata": {},
     "output_type": "execute_result"
    }
   ],
   "source": [
    "next(ed_generator)"
   ]
  },
  {
   "cell_type": "code",
   "execution_count": 15,
   "metadata": {},
   "outputs": [
    {
     "name": "stdout",
     "output_type": "stream",
     "text": [
      "Shape of You\n",
      "Castle on the Hill\n",
      "Galway Girl\n",
      "Perfect\n"
     ]
    }
   ],
   "source": [
    "### Use a generator to find and then print Ed Sheeran's tracks\n",
    "for track in (name for artist, name in zip(music.artists, music.name) if 'Sheeran' in artist):\n",
    "    print(track)"
   ]
  },
  {
   "cell_type": "markdown",
   "metadata": {},
   "source": [
    "### Closures"
   ]
  },
  {
   "cell_type": "code",
   "execution_count": 16,
   "metadata": {},
   "outputs": [],
   "source": [
    "### Closure to make it easy to find tracks of a certain energy\n",
    "def Energy(energy_threshold):\n",
    "    def my_func(energy):\n",
    "        return energy > energy_threshold\n",
    "    return my_func"
   ]
  },
  {
   "cell_type": "code",
   "execution_count": 17,
   "metadata": {},
   "outputs": [],
   "source": [
    "### Let's say that tracks of 0.8 or more are high energy\n",
    "high_energy = Energy(0.8)"
   ]
  },
  {
   "cell_type": "code",
   "execution_count": 18,
   "metadata": {},
   "outputs": [
    {
     "data": {
      "text/plain": [
       "(0.815,\n",
       " 0.812,\n",
       " 0.8170000000000001,\n",
       " 0.8340000000000001,\n",
       " 0.81,\n",
       " 0.804,\n",
       " 0.8759999999999999,\n",
       " 0.813,\n",
       " 0.843,\n",
       " 0.836,\n",
       " 0.823,\n",
       " 0.868,\n",
       " 0.8029999999999999,\n",
       " 0.8009999999999999,\n",
       " 0.8640000000000001,\n",
       " 0.932,\n",
       " 0.838,\n",
       " 0.809,\n",
       " 0.8590000000000001)"
      ]
     },
     "execution_count": 18,
     "metadata": {},
     "output_type": "execute_result"
    }
   ],
   "source": [
    "tuple(filter(high_energy, music.energy))"
   ]
  },
  {
   "cell_type": "code",
   "execution_count": 19,
   "metadata": {},
   "outputs": [
    {
     "data": {
      "text/plain": [
       "[('Ed Sheeran', 'Shape of You', False),\n",
       " ('Luis Fonsi', 'Despacito - Remix', True),\n",
       " ('Luis Fonsi', 'Despacito (Featuring Daddy Yankee)', False),\n",
       " ('The Chainsmokers', 'Something Just Like This', False),\n",
       " ('DJ Khaled', \"I'm the One\", False),\n",
       " ('Kendrick Lamar', 'HUMBLE.', False),\n",
       " ('Kygo', \"It Ain't Me (with Selena Gomez)\", False),\n",
       " ('French Montana', 'Unforgettable', False),\n",
       " ('Bruno Mars', \"That's What I Like\", False),\n",
       " ('ZAYN',\n",
       "  'I Don’t Wanna Live Forever (Fifty Shades Darker) - From \"Fifty Shades Darker (Original Motion Picture Soundtrack)\"',\n",
       "  False),\n",
       " ('Lil Uzi Vert', 'XO TOUR Llif3', False),\n",
       " ('The Chainsmokers', 'Paris', False),\n",
       " ('Zedd', 'Stay (with Alessia Cara)', False),\n",
       " ('Charlie Puth', 'Attention', False),\n",
       " ('Future', 'Mask Off', False),\n",
       " ('Post Malone', 'Congratulations', True),\n",
       " ('Jason Derulo', 'Swalla (feat. Nicki Minaj & Ty Dolla $ign)', True),\n",
       " ('Ed Sheeran', 'Castle on the Hill', True),\n",
       " ('Clean Bandit', 'Rockabye (feat. Sean Paul & Anne-Marie)', False),\n",
       " ('Imagine Dragons', 'Believer', False),\n",
       " ('J Balvin', 'Mi Gente', False),\n",
       " ('Imagine Dragons', 'Thunder', True),\n",
       " ('James Arthur', \"Say You Won't Let Go\", False),\n",
       " ('Shawn Mendes', \"There's Nothing Holdin' Me Back\", False),\n",
       " ('Danny Ocean', 'Me Rehúso', True),\n",
       " ('Julia Michaels', 'Issues', False),\n",
       " ('Ed Sheeran', 'Galway Girl', True),\n",
       " ('Martin Garrix', 'Scared to Be Lonely', False),\n",
       " ('The Chainsmokers', 'Closer', False),\n",
       " ('Clean Bandit', 'Symphony (feat. Zara Larsson)', False),\n",
       " ('The Weeknd', 'I Feel It Coming', True),\n",
       " ('The Weeknd', 'Starboy', False),\n",
       " ('DJ Khaled', 'Wild Thoughts', False),\n",
       " ('Calvin Harris', 'Slide', False),\n",
       " ('Dua Lipa', 'New Rules', False),\n",
       " ('Logic', '1-800-273-8255', False),\n",
       " ('Drake', 'Passionfruit', False),\n",
       " ('Post Malone', 'rockstar', False),\n",
       " ('Liam Payne', 'Strip That Down', False),\n",
       " ('David Guetta', '2U (feat. Justin Bieber)', False),\n",
       " ('Ed Sheeran', 'Perfect', False),\n",
       " ('Starley', 'Call On Me - Ryan Riback Extended Remix', True),\n",
       " ('Calvin Harris', 'Feels', False),\n",
       " ('Jonas Blue', 'Mama', False),\n",
       " ('Maluma', 'Felices los 4', False),\n",
       " ('KYLE', 'iSpy (feat. Lil Yachty)', False),\n",
       " ('Khalid', 'Location', False),\n",
       " ('Shakira', 'Chantaje', False),\n",
       " ('Migos', 'Bad and Boujee (feat. Lil Uzi Vert)', False),\n",
       " ('Camila Cabello', 'Havana', False),\n",
       " ('Martin Jensen', 'Solo Dance', True),\n",
       " ('Drake', 'Fake Love', False),\n",
       " ('DJ Snake', 'Let Me Love You', False),\n",
       " ('Axwell /\\\\ Ingrosso', 'More Than You Know', False),\n",
       " ('Drake', 'One Dance', False),\n",
       " ('Enrique Iglesias', 'SUBEME LA RADIO', True),\n",
       " ('Maggie Lindemann', 'Pretty Girl - Cheat Codes X CADE Remix', True),\n",
       " ('Demi Lovato', 'Sorry Not Sorry', False),\n",
       " ('Childish Gambino', 'Redbone', False),\n",
       " ('Bruno Mars', '24K Magic', True),\n",
       " ('Kendrick Lamar', 'DNA.', False),\n",
       " ('Nicky Jam', 'El Amante', False),\n",
       " ('Jax Jones', \"You Don't Know Me - Radio Edit\", False),\n",
       " ('Katy Perry', 'Chained To The Rhythm', True),\n",
       " ('Cheat Codes', 'No Promises (feat. Demi Lovato)', False),\n",
       " ('Maroon 5', \"Don't Wanna Know (feat. Kendrick Lamar)\", False),\n",
       " ('Alessia Cara', 'How Far I\\'ll Go - From \"Moana\"', False),\n",
       " ('Niall Horan', 'Slow Hands', False),\n",
       " ('Wisin', 'Escápate Conmigo', True),\n",
       " ('Big Sean', 'Bounce Back', False),\n",
       " ('Harry Styles', 'Sign of the Times', False),\n",
       " ('Travis Scott', 'goosebumps', False),\n",
       " ('Khalid', 'Young Dumb & Broke', False),\n",
       " ('Martin Garrix', 'There for You', False),\n",
       " ('Maroon 5', 'Cold (feat. Future)', False),\n",
       " ('Marshmello', 'Silence', False),\n",
       " ('Sam Smith', 'Too Good At Goodbyes', False),\n",
       " ('Steve Aoki', 'Just Hold On', True),\n",
       " ('Taylor Swift', 'Look What You Made Me Do', False),\n",
       " ('Macklemore', 'Glorious (feat. Skylar Grey)', False),\n",
       " ('Hailee Steinfeld', 'Starving', False),\n",
       " ('CNCO', 'Reggaetón Lento (Bailemos)', True),\n",
       " ('AJR', 'Weak', False),\n",
       " ('Ariana Grande', 'Side To Side', False),\n",
       " ('Zion & Lennox', 'Otra Vez (feat. J Balvin)', False),\n",
       " ('Lauv', 'I Like Me Better', False),\n",
       " ('Martin Garrix', 'In the Name of Love', False),\n",
       " ('Major Lazer', 'Cold Water (feat. Justin Bieber & MØ)', False),\n",
       " ('Miley Cyrus', 'Malibu', False),\n",
       " ('The Vamps', 'All Night', True),\n",
       " ('Alok', 'Hear Me Now', False),\n",
       " ('Rita Ora', 'Your Song', False),\n",
       " ('Chris Jeday', 'Ahora Dice', False),\n",
       " ('Justin Bieber', 'Friends (with BloodPop®)', False),\n",
       " ('21 Savage', 'Bank Account', False),\n",
       " ('Machine Gun Kelly', 'Bad Things (with Camila Cabello)', False),\n",
       " ('The Chainsmokers', \"Don't Let Me Down\", True),\n",
       " ('Sam Hunt', 'Body Like A Back Road', False),\n",
       " ('Halsey', 'Now Or Never', False),\n",
       " ('ZAYN', 'Dusk Till Dawn - Radio Edit', False)]"
      ]
     },
     "execution_count": 19,
     "metadata": {},
     "output_type": "execute_result"
    }
   ],
   "source": [
    "[(x, y, z) for (x, y, z) in zip(music.artists, music.name, high_energy(music.energy))]"
   ]
  },
  {
   "cell_type": "code",
   "execution_count": 20,
   "metadata": {},
   "outputs": [
    {
     "data": {
      "text/plain": [
       "[('Ed Sheeran', 'Shape of You', False),\n",
       " ('Luis Fonsi', 'Despacito - Remix', True),\n",
       " ('Luis Fonsi', 'Despacito (Featuring Daddy Yankee)', False),\n",
       " ('The Chainsmokers', 'Something Just Like This', False),\n",
       " ('DJ Khaled', \"I'm the One\", False),\n",
       " ('Kendrick Lamar', 'HUMBLE.', False),\n",
       " ('Kygo', \"It Ain't Me (with Selena Gomez)\", False),\n",
       " ('French Montana', 'Unforgettable', False),\n",
       " ('Bruno Mars', \"That's What I Like\", False),\n",
       " ('ZAYN',\n",
       "  'I Don’t Wanna Live Forever (Fifty Shades Darker) - From \"Fifty Shades Darker (Original Motion Picture Soundtrack)\"',\n",
       "  False),\n",
       " ('Lil Uzi Vert', 'XO TOUR Llif3', False),\n",
       " ('The Chainsmokers', 'Paris', False),\n",
       " ('Zedd', 'Stay (with Alessia Cara)', False),\n",
       " ('Charlie Puth', 'Attention', False),\n",
       " ('Future', 'Mask Off', False),\n",
       " ('Post Malone', 'Congratulations', True),\n",
       " ('Jason Derulo', 'Swalla (feat. Nicki Minaj & Ty Dolla $ign)', True),\n",
       " ('Ed Sheeran', 'Castle on the Hill', True),\n",
       " ('Clean Bandit', 'Rockabye (feat. Sean Paul & Anne-Marie)', False),\n",
       " ('Imagine Dragons', 'Believer', False),\n",
       " ('J Balvin', 'Mi Gente', False),\n",
       " ('Imagine Dragons', 'Thunder', True),\n",
       " ('James Arthur', \"Say You Won't Let Go\", False),\n",
       " ('Shawn Mendes', \"There's Nothing Holdin' Me Back\", False),\n",
       " ('Danny Ocean', 'Me Rehúso', True),\n",
       " ('Julia Michaels', 'Issues', False),\n",
       " ('Ed Sheeran', 'Galway Girl', True),\n",
       " ('Martin Garrix', 'Scared to Be Lonely', False),\n",
       " ('The Chainsmokers', 'Closer', False),\n",
       " ('Clean Bandit', 'Symphony (feat. Zara Larsson)', False),\n",
       " ('The Weeknd', 'I Feel It Coming', True),\n",
       " ('The Weeknd', 'Starboy', False),\n",
       " ('DJ Khaled', 'Wild Thoughts', False),\n",
       " ('Calvin Harris', 'Slide', False),\n",
       " ('Dua Lipa', 'New Rules', False),\n",
       " ('Logic', '1-800-273-8255', False),\n",
       " ('Drake', 'Passionfruit', False),\n",
       " ('Post Malone', 'rockstar', False),\n",
       " ('Liam Payne', 'Strip That Down', False),\n",
       " ('David Guetta', '2U (feat. Justin Bieber)', False),\n",
       " ('Ed Sheeran', 'Perfect', False),\n",
       " ('Starley', 'Call On Me - Ryan Riback Extended Remix', True),\n",
       " ('Calvin Harris', 'Feels', False),\n",
       " ('Jonas Blue', 'Mama', False),\n",
       " ('Maluma', 'Felices los 4', False),\n",
       " ('KYLE', 'iSpy (feat. Lil Yachty)', False),\n",
       " ('Khalid', 'Location', False),\n",
       " ('Shakira', 'Chantaje', False),\n",
       " ('Migos', 'Bad and Boujee (feat. Lil Uzi Vert)', False),\n",
       " ('Camila Cabello', 'Havana', False),\n",
       " ('Martin Jensen', 'Solo Dance', True),\n",
       " ('Drake', 'Fake Love', False),\n",
       " ('DJ Snake', 'Let Me Love You', False),\n",
       " ('Axwell /\\\\ Ingrosso', 'More Than You Know', False),\n",
       " ('Drake', 'One Dance', False),\n",
       " ('Enrique Iglesias', 'SUBEME LA RADIO', True),\n",
       " ('Maggie Lindemann', 'Pretty Girl - Cheat Codes X CADE Remix', True),\n",
       " ('Demi Lovato', 'Sorry Not Sorry', False),\n",
       " ('Childish Gambino', 'Redbone', False),\n",
       " ('Bruno Mars', '24K Magic', True),\n",
       " ('Kendrick Lamar', 'DNA.', False),\n",
       " ('Nicky Jam', 'El Amante', False),\n",
       " ('Jax Jones', \"You Don't Know Me - Radio Edit\", False),\n",
       " ('Katy Perry', 'Chained To The Rhythm', True),\n",
       " ('Cheat Codes', 'No Promises (feat. Demi Lovato)', False),\n",
       " ('Maroon 5', \"Don't Wanna Know (feat. Kendrick Lamar)\", False),\n",
       " ('Alessia Cara', 'How Far I\\'ll Go - From \"Moana\"', False),\n",
       " ('Niall Horan', 'Slow Hands', False),\n",
       " ('Wisin', 'Escápate Conmigo', True),\n",
       " ('Big Sean', 'Bounce Back', False),\n",
       " ('Harry Styles', 'Sign of the Times', False),\n",
       " ('Travis Scott', 'goosebumps', False),\n",
       " ('Khalid', 'Young Dumb & Broke', False),\n",
       " ('Martin Garrix', 'There for You', False),\n",
       " ('Maroon 5', 'Cold (feat. Future)', False),\n",
       " ('Marshmello', 'Silence', False),\n",
       " ('Sam Smith', 'Too Good At Goodbyes', False),\n",
       " ('Steve Aoki', 'Just Hold On', True),\n",
       " ('Taylor Swift', 'Look What You Made Me Do', False),\n",
       " ('Macklemore', 'Glorious (feat. Skylar Grey)', False),\n",
       " ('Hailee Steinfeld', 'Starving', False),\n",
       " ('CNCO', 'Reggaetón Lento (Bailemos)', True),\n",
       " ('AJR', 'Weak', False),\n",
       " ('Ariana Grande', 'Side To Side', False),\n",
       " ('Zion & Lennox', 'Otra Vez (feat. J Balvin)', False),\n",
       " ('Lauv', 'I Like Me Better', False),\n",
       " ('Martin Garrix', 'In the Name of Love', False),\n",
       " ('Major Lazer', 'Cold Water (feat. Justin Bieber & MØ)', False),\n",
       " ('Miley Cyrus', 'Malibu', False),\n",
       " ('The Vamps', 'All Night', True),\n",
       " ('Alok', 'Hear Me Now', False),\n",
       " ('Rita Ora', 'Your Song', False),\n",
       " ('Chris Jeday', 'Ahora Dice', False),\n",
       " ('Justin Bieber', 'Friends (with BloodPop®)', False),\n",
       " ('21 Savage', 'Bank Account', False),\n",
       " ('Machine Gun Kelly', 'Bad Things (with Camila Cabello)', False),\n",
       " ('The Chainsmokers', \"Don't Let Me Down\", True),\n",
       " ('Sam Hunt', 'Body Like A Back Road', False),\n",
       " ('Halsey', 'Now Or Never', False),\n",
       " ('ZAYN', 'Dusk Till Dawn - Radio Edit', False)]"
      ]
     },
     "execution_count": 20,
     "metadata": {},
     "output_type": "execute_result"
    }
   ],
   "source": [
    "[(artist, title, energy) for (artist, title, energy) in zip(music.artists, music.name, high_energy(music.energy))]"
   ]
  },
  {
   "cell_type": "code",
   "execution_count": 21,
   "metadata": {},
   "outputs": [
    {
     "data": {
      "text/plain": [
       "[('Luis Fonsi', 'Despacito - Remix', 0.815),\n",
       " ('Post Malone', 'Congratulations', 0.812),\n",
       " ('Jason Derulo',\n",
       "  'Swalla (feat. Nicki Minaj & Ty Dolla $ign)',\n",
       "  0.8170000000000001),\n",
       " ('Ed Sheeran', 'Castle on the Hill', 0.8340000000000001),\n",
       " ('Imagine Dragons', 'Thunder', 0.81),\n",
       " ('Danny Ocean', 'Me Rehúso', 0.804),\n",
       " ('Ed Sheeran', 'Galway Girl', 0.8759999999999999),\n",
       " ('The Weeknd', 'I Feel It Coming', 0.813),\n",
       " ('Starley', 'Call On Me - Ryan Riback Extended Remix', 0.843),\n",
       " ('Martin Jensen', 'Solo Dance', 0.836),\n",
       " ('Enrique Iglesias', 'SUBEME LA RADIO', 0.823),\n",
       " ('Maggie Lindemann', 'Pretty Girl - Cheat Codes X CADE Remix', 0.868),\n",
       " ('Bruno Mars', '24K Magic', 0.8029999999999999),\n",
       " ('Katy Perry', 'Chained To The Rhythm', 0.8009999999999999),\n",
       " ('Wisin', 'Escápate Conmigo', 0.8640000000000001),\n",
       " ('Steve Aoki', 'Just Hold On', 0.932),\n",
       " ('CNCO', 'Reggaetón Lento (Bailemos)', 0.838),\n",
       " ('The Vamps', 'All Night', 0.809),\n",
       " ('The Chainsmokers', \"Don't Let Me Down\", 0.8590000000000001)]"
      ]
     },
     "execution_count": 21,
     "metadata": {},
     "output_type": "execute_result"
    }
   ],
   "source": [
    "[(x, y, z) for (x, y, z) in zip(music.artists, music.name, music.energy) if high_energy(z)]"
   ]
  },
  {
   "cell_type": "code",
   "execution_count": null,
   "metadata": {},
   "outputs": [],
   "source": []
  },
  {
   "cell_type": "code",
   "execution_count": null,
   "metadata": {},
   "outputs": [],
   "source": []
  }
 ],
 "metadata": {
  "kernelspec": {
   "display_name": "Python 3",
   "language": "python",
   "name": "python3"
  },
  "language_info": {
   "codemirror_mode": {
    "name": "ipython",
    "version": 3
   },
   "file_extension": ".py",
   "mimetype": "text/x-python",
   "name": "python",
   "nbconvert_exporter": "python",
   "pygments_lexer": "ipython3",
   "version": "3.6.4"
  }
 },
 "nbformat": 4,
 "nbformat_minor": 2
}
