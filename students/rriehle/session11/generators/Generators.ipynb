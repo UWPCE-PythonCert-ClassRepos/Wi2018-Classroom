{
 "cells": [
  {
   "cell_type": "markdown",
   "metadata": {},
   "source": [
    "# Generators"
   ]
  },
  {
   "cell_type": "markdown",
   "metadata": {},
   "source": [
    "Generators give you an iterator object with no access to the underlying data … if it even exists.\n",
    "\n",
    "Conceptually iterators are about various ways to loop over data. They can generate data on the fly.\n",
    "\n",
    "Practically you can use either an iterator or a generator — and a generator is a type of iterator.\n",
    "\n",
    "Generators do some of the book-keeping for you and therefore involve simpler syntax."
   ]
  },
  {
   "cell_type": "markdown",
   "metadata": {},
   "source": [
    "### yield"
   ]
  },
  {
   "cell_type": "markdown",
   "metadata": {},
   "source": [
    "The ``yield`` keyword is a way to make a generator with a function."
   ]
  },
  {
   "cell_type": "markdown",
   "metadata": {},
   "source": [
    "```python\n",
    "def a_generator_function(params):\n",
    "    some_stuff\n",
    "    yield something\n",
    "```"
   ]
  },
  {
   "cell_type": "markdown",
   "metadata": {},
   "source": [
    "Generator functions “yield” a value, rather than returning a value. It does ‘return’ a value, but rather than ending execution of the function it preserves function state so that it can pick up where it left off. In other words, state is preserved between yields.\n",
    "\n",
    "A function with yield in it is a factory for a generator. Each time you call it, you get a new generator.\n",
    "\n",
    "```python\n",
    "gen_a = a_generator()\n",
    "gen_b = a_generator()\n",
    "```"
   ]
  },
  {
   "cell_type": "markdown",
   "metadata": {},
   "source": [
    "Each instance keeps its own state.\n",
    "\n",
    "Really just a shorthand for an iterator class that does the book keeping for you.\n",
    "\n",
    "To master yield, you must understand that when you call the function, the code you have written in the function body does not run. The function only returns the generator object. The actual code in the function is run when ``next()`` is called on the generator itself.\n",
    "\n",
    "An example similar to ``range()``."
   ]
  },
  {
   "cell_type": "code",
   "execution_count": null,
   "metadata": {},
   "outputs": [],
   "source": [
    "def y_range(start, stop, step=1):\n",
    "    i = start\n",
    "    while i < stop:\n",
    "        yield i\n",
    "        i += step"
   ]
  },
  {
   "cell_type": "markdown",
   "metadata": {},
   "source": [
    "Run the generator definition above and then also the next several cells."
   ]
  },
  {
   "cell_type": "code",
   "execution_count": null,
   "metadata": {},
   "outputs": [],
   "source": [
    "gen = y_range(2,6)"
   ]
  },
  {
   "cell_type": "code",
   "execution_count": null,
   "metadata": {},
   "outputs": [],
   "source": [
    "type(gen)"
   ]
  },
  {
   "cell_type": "code",
   "execution_count": null,
   "metadata": {},
   "outputs": [],
   "source": [
    "dir(gen)"
   ]
  },
  {
   "cell_type": "markdown",
   "metadata": {},
   "source": [
    "Note the ``__iter__()`` and ``__next__()`` methods in the dir.  Thus, a generator _is_ an iterator."
   ]
  },
  {
   "cell_type": "markdown",
   "metadata": {},
   "source": [
    "## Exercise\n",
    "\n",
    "Write a few generators:\n",
    "\n",
    "* Sum of integers\n",
    "* Doubler\n",
    "* Fibonacci sequence\n",
    "* Prime numbers"
   ]
  },
  {
   "cell_type": "markdown",
   "metadata": {},
   "source": [
    "### Sum of integers\n",
    "\n",
    "Keep adding the next integer: 0 + 1 + 2 + 3 + 4 + 5....\n",
    "\n",
    "The resulting sequence is 0, 1, 3, 6, 10, 15...."
   ]
  },
  {
   "cell_type": "code",
   "execution_count": null,
   "metadata": {},
   "outputs": [],
   "source": [
    "for my_sum(i=0):\n",
    "    while True:\n",
    "        yield n\n",
    "        n += 1"
   ]
  },
  {
   "cell_type": "markdown",
   "metadata": {},
   "source": [
    "### Doubler\n",
    "\n",
    "Each value is double the previous value.\n",
    "\n",
    "1, 2, 4, 8, 16, 32...."
   ]
  },
  {
   "cell_type": "code",
   "execution_count": null,
   "metadata": {},
   "outputs": [],
   "source": []
  },
  {
   "cell_type": "markdown",
   "metadata": {},
   "source": [
    "### Fibonacci sequence:\n",
    "\n",
    "The Fibonacci sequence as a generator:\n",
    "\n",
    "f(n) = f(n-1) + f(n-2)\n",
    "\n",
    "1, 1, 2, 3, 5, 8, 13, 21, 34…"
   ]
  },
  {
   "cell_type": "code",
   "execution_count": null,
   "metadata": {},
   "outputs": [],
   "source": []
  },
  {
   "cell_type": "markdown",
   "metadata": {},
   "source": [
    "### Prime numbers:\n",
    "\n",
    "Generate the prime numbers (numbers only divisible by themselves and one):\n",
    "\n",
    "2, 3, 5, 7, 11, 13, 17, 19, 23…"
   ]
  },
  {
   "cell_type": "code",
   "execution_count": null,
   "metadata": {},
   "outputs": [],
   "source": []
  },
  {
   "cell_type": "markdown",
   "metadata": {},
   "source": [
    "### Others to try\n",
    "\n",
    "* x^2\n",
    "* x^3\n",
    "* x^e\n",
    "* counting by threes\n",
    "* counting by minus seven"
   ]
  },
  {
   "cell_type": "code",
   "execution_count": null,
   "metadata": {},
   "outputs": [],
   "source": []
  }
 ],
 "metadata": {
  "kernelspec": {
   "display_name": "Python 3",
   "language": "python",
   "name": "python3"
  },
  "language_info": {
   "codemirror_mode": {
    "name": "ipython",
    "version": 3
   },
   "file_extension": ".py",
   "mimetype": "text/x-python",
   "name": "python",
   "nbconvert_exporter": "python",
   "pygments_lexer": "ipython3",
   "version": "3.6.4"
  }
 },
 "nbformat": 4,
 "nbformat_minor": 2
}
